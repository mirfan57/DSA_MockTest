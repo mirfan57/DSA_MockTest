{
 "cells": [
  {
   "cell_type": "markdown",
   "id": "5d2e6d29",
   "metadata": {},
   "source": [
    "### Implement a queue using a list in Python. Include the necessary methods such as enqueue, dequeue, and isEmpty."
   ]
  },
  {
   "cell_type": "code",
   "execution_count": 1,
   "id": "7e924ea9",
   "metadata": {},
   "outputs": [],
   "source": [
    "class queue_func:\n",
    "    def __init__(self):\n",
    "        self.queue = []\n",
    "\n",
    "    # adds an item to the end of the queue\n",
    "    def enqueue(self, item):\n",
    "        self.queue.append(item)\n",
    "\n",
    "    # checks whether the queue is empty\n",
    "    def is_empty(self):\n",
    "        return len(self.queue) == 0\n",
    "    \n",
    "    # removes and returns the front-most item from the queue\n",
    "    def dequeue(self):\n",
    "        if self.is_empty():\n",
    "            raise IndexError(\"Cannot dequeue from an empty queue\")\n",
    "        return self.queue.pop(0)"
   ]
  },
  {
   "cell_type": "code",
   "execution_count": 2,
   "id": "84ecc133",
   "metadata": {},
   "outputs": [],
   "source": [
    "# creating an object\n",
    "que = queue_func()\n",
    "\n",
    "# enqueue some items into the queue\n",
    "que.enqueue(30)\n",
    "que.enqueue(60)"
   ]
  },
  {
   "cell_type": "code",
   "execution_count": 5,
   "id": "62df23b5",
   "metadata": {},
   "outputs": [
    {
     "name": "stdout",
     "output_type": "stream",
     "text": [
      "False\n"
     ]
    }
   ],
   "source": [
    "# check if the queue is empty\n",
    "print(que.is_empty())"
   ]
  },
  {
   "cell_type": "code",
   "execution_count": 6,
   "id": "0227620f",
   "metadata": {},
   "outputs": [
    {
     "name": "stdout",
     "output_type": "stream",
     "text": [
      "30\n"
     ]
    }
   ],
   "source": [
    "# dequeue first item\n",
    "print(que.dequeue())"
   ]
  },
  {
   "cell_type": "code",
   "execution_count": 7,
   "id": "40ffba14",
   "metadata": {},
   "outputs": [
    {
     "name": "stdout",
     "output_type": "stream",
     "text": [
      "False\n"
     ]
    }
   ],
   "source": [
    "print(que.is_empty())"
   ]
  },
  {
   "cell_type": "code",
   "execution_count": 8,
   "id": "335f46ed",
   "metadata": {},
   "outputs": [
    {
     "name": "stdout",
     "output_type": "stream",
     "text": [
      "60\n"
     ]
    }
   ],
   "source": [
    "print(que.dequeue())"
   ]
  },
  {
   "cell_type": "code",
   "execution_count": 10,
   "id": "df2a6579",
   "metadata": {},
   "outputs": [
    {
     "name": "stdout",
     "output_type": "stream",
     "text": [
      "True\n"
     ]
    }
   ],
   "source": [
    "print(que.is_empty())"
   ]
  },
  {
   "cell_type": "code",
   "execution_count": null,
   "id": "817ff703",
   "metadata": {},
   "outputs": [],
   "source": []
  }
 ],
 "metadata": {
  "kernelspec": {
   "display_name": "Python 3",
   "language": "python",
   "name": "python3"
  },
  "language_info": {
   "codemirror_mode": {
    "name": "ipython",
    "version": 3
   },
   "file_extension": ".py",
   "mimetype": "text/x-python",
   "name": "python",
   "nbconvert_exporter": "python",
   "pygments_lexer": "ipython3",
   "version": "3.8.8"
  }
 },
 "nbformat": 4,
 "nbformat_minor": 5
}
