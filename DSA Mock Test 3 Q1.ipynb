{
 "cells": [
  {
   "cell_type": "markdown",
   "id": "d583daa2",
   "metadata": {},
   "source": [
    "### Implement a stack using a list in Python. Include the necessary methods such as push, pop, and isEmpty."
   ]
  },
  {
   "cell_type": "code",
   "execution_count": 2,
   "id": "d7474dcc",
   "metadata": {},
   "outputs": [],
   "source": [
    "class stack_func:\n",
    "    def __init__(self):\n",
    "        self.stack = []\n",
    "\n",
    "    # adds an item to the top of the stack\n",
    "    def push(self, item):\n",
    "        self.stack.append(item)\n",
    "        \n",
    "    # checking whether stack is empty\n",
    "    def is_empty(self):\n",
    "        return len(self.stack) == 0\n",
    "\n",
    "    # removes and returns the topmost item from the stack\n",
    "    def pop(self):\n",
    "        if self.is_empty():\n",
    "            raise IndexError(\"Cannot pop from an empty stack\")\n",
    "        return self.stack.pop()"
   ]
  },
  {
   "cell_type": "code",
   "execution_count": 4,
   "id": "ac65961f",
   "metadata": {},
   "outputs": [],
   "source": [
    "# creating an object\n",
    "stk = stack_func()\n",
    "\n",
    "# pushing onto stack\n",
    "stk.push(55)\n",
    "stk.push(100)"
   ]
  },
  {
   "cell_type": "code",
   "execution_count": 7,
   "id": "f121a592",
   "metadata": {},
   "outputs": [
    {
     "name": "stdout",
     "output_type": "stream",
     "text": [
      "False\n"
     ]
    }
   ],
   "source": [
    "# checking whether lenght of stack is equal to 0\n",
    "print(stk.is_empty())"
   ]
  },
  {
   "cell_type": "code",
   "execution_count": 8,
   "id": "9398d056",
   "metadata": {},
   "outputs": [
    {
     "name": "stdout",
     "output_type": "stream",
     "text": [
      "100\n"
     ]
    }
   ],
   "source": [
    "# poping first item from stack which is the last one in\n",
    "print(stk.pop())"
   ]
  },
  {
   "cell_type": "code",
   "execution_count": 9,
   "id": "1ad1ada3",
   "metadata": {},
   "outputs": [
    {
     "name": "stdout",
     "output_type": "stream",
     "text": [
      "55\n"
     ]
    }
   ],
   "source": [
    "# poping the next item\n",
    "print(stk.pop())"
   ]
  },
  {
   "cell_type": "code",
   "execution_count": 10,
   "id": "d6360878",
   "metadata": {},
   "outputs": [
    {
     "name": "stdout",
     "output_type": "stream",
     "text": [
      "True\n"
     ]
    }
   ],
   "source": [
    "#  checking whether stack is empty\n",
    "print(stk.is_empty())"
   ]
  },
  {
   "cell_type": "code",
   "execution_count": null,
   "id": "aa0964ad",
   "metadata": {},
   "outputs": [],
   "source": []
  }
 ],
 "metadata": {
  "kernelspec": {
   "display_name": "Python 3",
   "language": "python",
   "name": "python3"
  },
  "language_info": {
   "codemirror_mode": {
    "name": "ipython",
    "version": 3
   },
   "file_extension": ".py",
   "mimetype": "text/x-python",
   "name": "python",
   "nbconvert_exporter": "python",
   "pygments_lexer": "ipython3",
   "version": "3.8.8"
  }
 },
 "nbformat": 4,
 "nbformat_minor": 5
}
